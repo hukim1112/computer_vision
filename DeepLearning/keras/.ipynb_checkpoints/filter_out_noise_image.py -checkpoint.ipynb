{
 "cells": [
  {
   "cell_type": "code",
   "execution_count": null,
   "metadata": {},
   "outputs": [],
   "source": [
    "from __future__ import absolute_import, division, print_function, unicode_literals\n",
    "try:\n",
    "  # Colab only\n",
    "  %tensorflow_version 2.x\n",
    "except Exception:\n",
    "  pass\n",
    "\n",
    "import tensorflow as tf\n",
    "from tensorflow import keras\n",
    "from matplotlib import pyplot as plt\n",
    "import numpy as np"
   ]
  },
  {
   "cell_type": "code",
   "execution_count": null,
   "metadata": {},
   "outputs": [],
   "source": [
    "layer = keras.layers\n",
    "print(\"tensorflow version check : \", tf.__version__)\n",
    "print(\"gpu check\", tf.test.is_gpu_available())\n"
   ]
  },
  {
   "cell_type": "markdown",
   "metadata": {},
   "source": [
    "# 1. get dataset on memory"
   ]
  },
  {
   "cell_type": "code",
   "execution_count": null,
   "metadata": {},
   "outputs": [],
   "source": [
    "mnist = tf.keras.datasets.mnist\n",
    "(x_train, y_train), (x_test, y_test) = mnist.load_data()\n",
    "print(\"mnist dataset on memory\")\n",
    "x_train, x_test = x_train / 255.0, x_test / 255.0\n",
    "\n",
    "# Add a channels dimension\n",
    "x_train = x_train[..., tf.newaxis]\n",
    "x_test = x_test[..., tf.newaxis]\n",
    "print(\"The shape of train dataset : \", x_train.shape)\n",
    "print(\"The shape of test dataset : \", x_test.shape)\n",
    "y_train = y_train.astype(np.int32)\n",
    "y_test = y_test.astype(np.int32)\n",
    "\n",
    "train_ds = tf.data.Dataset.from_tensor_slices((x_train, y_train)).shuffle(5000).batch(32)\n",
    "test_ds = tf.data.Dataset.from_tensor_slices((x_test, y_test)).shuffle(5000).batch(32)"
   ]
  },
  {
   "cell_type": "markdown",
   "metadata": {},
   "source": [
    "# 2. model definition"
   ]
  },
  {
   "cell_type": "code",
   "execution_count": null,
   "metadata": {},
   "outputs": [],
   "source": [
    "inputs = keras.Input(shape=(28, 28, 1))\n",
    "feature = layer.Conv2D(32, 3,activation='relu')(inputs)\n",
    "feature = layer.MaxPool2D(pool_size=(2, 2))(feature)\n",
    "feature = layer.Conv2D(64, 3, activation='relu')(feature)\n",
    "feature = layer.MaxPool2D(pool_size=(2, 2))(feature)\n",
    "flatten = layer.Flatten()(feature)\n",
    "embedding = layer.Dense(128, activation='relu')(flatten)\n",
    "prob = layer.Dense(10, activation='softmax')(embedding)\n",
    "model = keras.Model(inputs, prob)"
   ]
  },
  {
   "cell_type": "code",
   "execution_count": null,
   "metadata": {},
   "outputs": [],
   "source": [
    "model.summary()\n",
    "\n",
    "model.compile(optimizer=tf.keras.optimizers.RMSprop(0.001),\n",
    "              loss=tf.keras.losses.sparse_categorical_crossentropy,\n",
    "              metrics=[tf.keras.metrics.sparse_categorical_accuracy])"
   ]
  },
  {
   "cell_type": "code",
   "execution_count": null,
   "metadata": {},
   "outputs": [],
   "source": [
    "print('========================Training===============================')\n",
    "\n",
    "model.fit(x_train, y_train, epochs=5)\n",
    "\n",
    "print('========================Evaluation===============================')\n",
    "\n",
    "test_loss, test_acc = model.evaluate(test_ds)\n",
    "\n",
    "# del model\n",
    "# keras.backend.clear_session()"
   ]
  },
  {
   "cell_type": "code",
   "execution_count": null,
   "metadata": {},
   "outputs": [],
   "source": []
  },
  {
   "cell_type": "markdown",
   "metadata": {},
   "source": [
    "# 3. Noise image problem?"
   ]
  },
  {
   "cell_type": "code",
   "execution_count": null,
   "metadata": {},
   "outputs": [],
   "source": [
    "[fashine_train_x, fashine_train_y], [fashine_test_x, fashine_test_y] = tf.keras.datasets.fashion_mnist.load_data()"
   ]
  },
  {
   "cell_type": "code",
   "execution_count": null,
   "metadata": {},
   "outputs": [],
   "source": [
    "tmp_data = fashine_train_x[1]/255.0"
   ]
  },
  {
   "cell_type": "code",
   "execution_count": null,
   "metadata": {},
   "outputs": [],
   "source": [
    "from matplotlib import pyplot as plt\n",
    "\n",
    "plt.imshow(tmp_data, cmap='gray')"
   ]
  },
  {
   "cell_type": "code",
   "execution_count": null,
   "metadata": {},
   "outputs": [],
   "source": [
    "tmp_data = tf.reshape(tmp_data, [1, 28, 28, 1])\n",
    "model.predict(tmp_data)"
   ]
  },
  {
   "cell_type": "code",
   "execution_count": null,
   "metadata": {},
   "outputs": [],
   "source": []
  },
  {
   "cell_type": "markdown",
   "metadata": {},
   "source": [
    "# I will show you a modified model for solving this!"
   ]
  },
  {
   "cell_type": "code",
   "execution_count": null,
   "metadata": {},
   "outputs": [],
   "source": [
    "# 아웃풋 레이어의 activation은 None으로 해주고, softmax를 따로 만들어줍니다.\n",
    "# 그 이유는 선형분류기가 출력하는 score의 부호를 검사해서, 학습되지 않은 클래스의 이미지는 걸러주기 위해서에요.\n",
    "\n",
    "inputs = keras.Input(shape=(28, 28, 1))\n",
    "feature = layer.Conv2D(32, 3,activation='relu')(inputs)\n",
    "feature = layer.MaxPool2D(pool_size=(2, 2))(feature)\n",
    "feature = layer.Conv2D(64, 3, activation='relu')(feature)\n",
    "feature = layer.MaxPool2D(pool_size=(2, 2))(feature)\n",
    "flatten = layer.Flatten()(feature)\n",
    "embedding = layer.Dense(128, activation='relu')(flatten)\n",
    "scores = layer.Dense(10, activation=None)(embedding)\n",
    "prob = tf.keras.activations.softmax(scores)\n",
    "model = keras.Model(inputs, prob)"
   ]
  },
  {
   "cell_type": "code",
   "execution_count": null,
   "metadata": {},
   "outputs": [],
   "source": [
    "model.summary()\n",
    "\n",
    "model.compile(optimizer=tf.keras.optimizers.RMSprop(0.001),\n",
    "              loss=tf.keras.losses.sparse_categorical_crossentropy,\n",
    "              metrics=[tf.keras.metrics.sparse_categorical_accuracy])"
   ]
  },
  {
   "cell_type": "code",
   "execution_count": null,
   "metadata": {},
   "outputs": [],
   "source": [
    "print('========================Training===============================')\n",
    "\n",
    "model.fit(x_train, y_train, epochs=5)\n",
    "\n",
    "print('========================Evaluation===============================')\n",
    "\n",
    "test_loss, test_acc = model.evaluate(test_ds)\n",
    "\n",
    "# del model\n",
    "# keras.backend.clear_session()"
   ]
  },
  {
   "cell_type": "code",
   "execution_count": null,
   "metadata": {},
   "outputs": [],
   "source": []
  },
  {
   "cell_type": "markdown",
   "metadata": {},
   "source": [
    "### 아래 코드를 실행해서 기존 mnist와 상관 없는 fashine mnist를 넣어 테스트를 해봅니다.\n",
    "### score 값이 모두 큰 음수가 나오는 것을 확인할 수 있어요!"
   ]
  },
  {
   "cell_type": "code",
   "execution_count": null,
   "metadata": {},
   "outputs": [],
   "source": [
    "test_model = tf.keras.Model(inputs=model.get_layer('input_2').input, \n",
    "                            outputs=[model.get_layer('dense_3').output, \n",
    "                                     model.get_layer('tf_op_layer_Softmax').output])"
   ]
  },
  {
   "cell_type": "code",
   "execution_count": null,
   "metadata": {},
   "outputs": [],
   "source": [
    "test_model.predict(tmp_data)"
   ]
  },
  {
   "cell_type": "markdown",
   "metadata": {},
   "source": [
    "### 학습시켰던 클래스를 가지고 있는 mnist 영상에 대해서는 어떨까요?\n",
    "### 해당 클래스의 스코어 값은 양수로 표현됩니다."
   ]
  },
  {
   "cell_type": "code",
   "execution_count": null,
   "metadata": {},
   "outputs": [],
   "source": [
    "tmp_data = x_test[0]"
   ]
  },
  {
   "cell_type": "code",
   "execution_count": null,
   "metadata": {},
   "outputs": [],
   "source": [
    "plt.imshow(  tmp_data[:,:,0], cmap='gray')"
   ]
  },
  {
   "cell_type": "code",
   "execution_count": null,
   "metadata": {},
   "outputs": [],
   "source": [
    "test_model.predict(np.reshape(tmp_data, [1, 28, 28, 1]))"
   ]
  },
  {
   "cell_type": "code",
   "execution_count": null,
   "metadata": {},
   "outputs": [],
   "source": []
  }
 ],
 "metadata": {
  "kernelspec": {
   "display_name": "tf",
   "language": "python",
   "name": "tf"
  },
  "language_info": {
   "codemirror_mode": {
    "name": "ipython",
    "version": 3
   },
   "file_extension": ".py",
   "mimetype": "text/x-python",
   "name": "python",
   "nbconvert_exporter": "python",
   "pygments_lexer": "ipython3",
   "version": "3.6.7"
  }
 },
 "nbformat": 4,
 "nbformat_minor": 2
}
