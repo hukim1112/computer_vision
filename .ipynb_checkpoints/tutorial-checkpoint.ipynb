{
 "cells": [
  {
   "cell_type": "code",
   "execution_count": null,
   "metadata": {},
   "outputs": [],
   "source": [
    "import numpy as np\n",
    "import cv2\n",
    "from matplotlib import pyplot as plt\n",
    "from IPython.display import clear_output\n",
    "from IPython.display import Image\n",
    "%pylab inline"
   ]
  },
  {
   "cell_type": "markdown",
   "metadata": {},
   "source": [
    "## How to install python-opencv\n",
    "\n",
    "You can install opencv-python with pip Easily.\n",
    "\n",
    "$ pip install python-opencv              #기본 opencv install\n",
    "\n",
    "$ pip install python-contrib-opencv      #opencv contribution package install\n",
    "\n",
    "Note. pip-installable opencv는 모든 module을 가지고 있지 않음!\n",
    "\n",
    "특히  video 관련 module은 무겁기 때문에 빠져있음.\n",
    "\n",
    "Full version 설치를 원할 경우 cmake compile을 통해 .so file을 생성해야함 (https://github.com/opencv/opencv)\n",
    "\n",
    "## opencv tutorial\n",
    "https://docs.opencv.org/3.0-beta/doc/py_tutorials/py_tutorials.html"
   ]
  },
  {
   "cell_type": "markdown",
   "metadata": {},
   "source": [
    "### read/write color images\n",
    "\n",
    "it is pretty safe to assume that opencv always represent images as uint8 (ubyte) ndarray"
   ]
  },
  {
   "cell_type": "code",
   "execution_count": null,
   "metadata": {},
   "outputs": [],
   "source": [
    "## RGB images - BGR to RGB\n",
    "beach = cv2.imread(\"data/beach.jpg\")[:,:,::-1]\n",
    "print('type :', beach.__class__)\n",
    "print('shape :', beach.shape)\n",
    "print('min and max :', beach.min(), beach.max())\n",
    "plt.imshow(beach)"
   ]
  },
  {
   "cell_type": "markdown",
   "metadata": {},
   "source": [
    "Image split\n",
    "1. numpy array split example"
   ]
  },
  {
   "cell_type": "code",
   "execution_count": null,
   "metadata": {},
   "outputs": [],
   "source": [
    "arr = np.array([[1, 2, 3], [4, 5, 6]])\n",
    "print(\"2x3 array\\n\", arr)\n",
    "print(\"2x2 array split\\n\", arr[0:2, 0:2])"
   ]
  },
  {
   "cell_type": "markdown",
   "metadata": {},
   "source": [
    "Image split practice\n",
    "\n",
    "beach[]에 적절한 index 넣기"
   ]
  },
  {
   "cell_type": "code",
   "execution_count": null,
   "metadata": {},
   "outputs": [],
   "source": [
    "new_beach = beach[]\n",
    "plt.imshow(new_beach)"
   ]
  },
  {
   "cell_type": "code",
   "execution_count": null,
   "metadata": {},
   "outputs": [],
   "source": [
    "## manipulate pixles - cv2 store them as bgr instead of rgb\n",
    "imm = beach.copy()\n",
    "imm[:, :, 2] = 255\n",
    "plt.imshow(imm)"
   ]
  },
  {
   "cell_type": "code",
   "execution_count": null,
   "metadata": {},
   "outputs": [],
   "source": [
    "## manipulate pixles \n",
    "imm = beach.copy()\n",
    "imm[:100, :50] = (255, 0, 0) # red corner\n",
    "plt.imshow(imm)"
   ]
  },
  {
   "cell_type": "markdown",
   "metadata": {},
   "source": [
    "### read gray images"
   ]
  },
  {
   "cell_type": "code",
   "execution_count": null,
   "metadata": {},
   "outputs": [],
   "source": [
    "## gray scale - either load it directly\n",
    "beach_gray = cv2.imread(\"data/beach.jpg\", cv2.IMREAD_GRAYSCALE)\n",
    "\n",
    "## or convert later - note beach is RGB now\n",
    "beach_gray_converted = cv2.cvtColor(beach, cv2.COLOR_RGB2GRAY)\n",
    "\n",
    "## there are slight differences between the two versions\n",
    "fig, axes = plt.subplots(1, 2, figsize = (10, 5))\n",
    "axes[0].imshow(beach_gray, cmap = plt.cm.gray)\n",
    "axes[1].imshow(beach_gray_converted, cmap = plt.cm.gray)"
   ]
  },
  {
   "cell_type": "code",
   "execution_count": null,
   "metadata": {},
   "outputs": [],
   "source": [
    "## save and convert to different formats - Notice it assumes BGR\n",
    "cv2.imwrite(\"beach_new.jpg\", beach[:,:,::-1])"
   ]
  },
  {
   "cell_type": "markdown",
   "metadata": {},
   "source": [
    "### drawing on images"
   ]
  },
  {
   "cell_type": "code",
   "execution_count": null,
   "metadata": {},
   "outputs": [],
   "source": [
    "sunny_beach = beach.copy()\n",
    "cv2.circle(sunny_beach, (50, 50), 7, color = (255, 215, 0), thickness = -1, )\n",
    "plt.imshow(sunny_beach)"
   ]
  },
  {
   "cell_type": "code",
   "execution_count": null,
   "metadata": {},
   "outputs": [],
   "source": [
    "imm = beach.copy()\n",
    "## params: img, (x1, y1), (x2, y2), color (of the current img channel repr.)\n",
    "cv2.line(imm, (0, 0), (100, 150), (255, 0, 0), ) #red line\n",
    "cv2.circle(imm, (200, 100), 20, color = (0, 0, 255), thickness=5) #blue circle\n",
    "## filled rectangle\n",
    "cv2.rectangle(imm, (100, 50), (150, 120), color = (0, 255, 0), thickness = -1)\n",
    "plt.imshow(imm)"
   ]
  },
  {
   "cell_type": "markdown",
   "metadata": {},
   "source": [
    "# Opencv python tutorial\n",
    "# https://docs.opencv.org/3.0-beta/doc/py_tutorials/py_tutorials.html"
   ]
  },
  {
   "cell_type": "code",
   "execution_count": null,
   "metadata": {},
   "outputs": [],
   "source": []
  }
 ],
 "metadata": {
  "kernelspec": {
   "display_name": "Python 3",
   "language": "python",
   "name": "python3"
  },
  "language_info": {
   "codemirror_mode": {
    "name": "ipython",
    "version": 3
   },
   "file_extension": ".py",
   "mimetype": "text/x-python",
   "name": "python",
   "nbconvert_exporter": "python",
   "pygments_lexer": "ipython3",
   "version": "3.6.5"
  }
 },
 "nbformat": 4,
 "nbformat_minor": 2
}
