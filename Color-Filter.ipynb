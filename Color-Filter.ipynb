{
 "cells": [
  {
   "cell_type": "code",
   "execution_count": null,
   "metadata": {},
   "outputs": [],
   "source": [
    "import cv2\n",
    "from matplotlib import pyplot as plt\n",
    "import numpy as np\n",
    "\n",
    "%matplotlib inline"
   ]
  },
  {
   "cell_type": "markdown",
   "metadata": {},
   "source": [
    "# ***masking by cv2.draw and cv2.bitwise_and***\n",
    "- use cv2.shape to draw mask shape on a canvas\n",
    "- exclusively using bitwise_and with mask parameter"
   ]
  },
  {
   "cell_type": "code",
   "execution_count": null,
   "metadata": {},
   "outputs": [],
   "source": [
    "beach = cv2.imread(\"data/beach.jpg\")[:,:,::-1]\n",
    "h, w = beach.shape[:-1]\n",
    "\n",
    "canvas = np.zeros((h, w), dtype = np.uint8)\n",
    "mask = cv2.circle(canvas, (int(w/2), int(h/2)), 30, color = 255,thickness = -1)\n",
    "\n",
    "masked_beach = cv2.bitwise_and(beach, beach, mask = mask)\n",
    "\n",
    "plt.figure()\n",
    "plt.subplot(221)\n",
    "plt.imshow(beach)\n",
    "plt.subplot(222)\n",
    "plt.imshow(mask, cmap='gray')\n",
    "plt.subplot(223)\n",
    "plt.imshow(masked_beach)"
   ]
  },
  {
   "cell_type": "markdown",
   "metadata": {},
   "source": [
    "![title](img/HSV_color_solid_cone.png)"
   ]
  },
  {
   "cell_type": "code",
   "execution_count": null,
   "metadata": {},
   "outputs": [],
   "source": [
    "img = cv2.imread('data/blue_rose.jpg')[:,:,::-1]\n",
    "plt.imshow(img)\n",
    "plt.show()"
   ]
  },
  {
   "cell_type": "code",
   "execution_count": null,
   "metadata": {},
   "outputs": [],
   "source": [
    "hsv = cv2.cvtColor(img, cv2.COLOR_RGB2HSV) # convert the image from rgb to hsv. "
   ]
  },
  {
   "cell_type": "code",
   "execution_count": null,
   "metadata": {},
   "outputs": [],
   "source": [
    "## gray scale hist \n",
    "hist = cv2.calcHist([hsv[:,:,0]], [0], mask = None, histSize = [181], ranges = [0, 181])\n",
    "plt.plot(hist)\n",
    "plt.xlim([0, 181])"
   ]
  },
  {
   "cell_type": "code",
   "execution_count": null,
   "metadata": {},
   "outputs": [],
   "source": [
    "lower_bound = np.array([100,50,50]) # lower bound : h=101, s=50, v=50\n",
    "upper_bound = np.array([130,255,255]) # upper bound : h=139, s=255, v=255\n",
    "mask = cv2.inRange(hsv, lower_bound, upper_bound)\n",
    "res = cv2.bitwise_and(img,img, mask= mask)"
   ]
  },
  {
   "cell_type": "code",
   "execution_count": null,
   "metadata": {},
   "outputs": [],
   "source": [
    "plt.imshow(mask, cmap='gray')"
   ]
  },
  {
   "cell_type": "code",
   "execution_count": null,
   "metadata": {},
   "outputs": [],
   "source": [
    "plt.imshow(res)\n",
    "plt.show()"
   ]
  },
  {
   "cell_type": "markdown",
   "metadata": {},
   "source": [
    "# Color filtering practice"
   ]
  },
  {
   "cell_type": "code",
   "execution_count": null,
   "metadata": {},
   "outputs": [],
   "source": [
    "import os\n",
    "os.listdir('data/color_filter')"
   ]
  },
  {
   "cell_type": "code",
   "execution_count": null,
   "metadata": {},
   "outputs": [],
   "source": [
    "image_name = '' # put the name of a image you want to process\n",
    "path = os.path.join('data/color_filter', 'rock_scissors_paper.jpg')\n",
    "img = cv2.imread(path)[:,:,::-1]\n",
    "plt.imshow(img)"
   ]
  },
  {
   "cell_type": "code",
   "execution_count": null,
   "metadata": {},
   "outputs": [],
   "source": []
  },
  {
   "cell_type": "code",
   "execution_count": null,
   "metadata": {},
   "outputs": [],
   "source": []
  },
  {
   "cell_type": "code",
   "execution_count": null,
   "metadata": {},
   "outputs": [],
   "source": []
  },
  {
   "cell_type": "code",
   "execution_count": null,
   "metadata": {},
   "outputs": [],
   "source": []
  },
  {
   "cell_type": "code",
   "execution_count": null,
   "metadata": {},
   "outputs": [],
   "source": []
  },
  {
   "cell_type": "code",
   "execution_count": null,
   "metadata": {},
   "outputs": [],
   "source": [
    "blur_mask = cv2.medianBlur(mask, 3)\n",
    "plt.imshow(blur_mask, cmap='gray')"
   ]
  },
  {
   "cell_type": "code",
   "execution_count": null,
   "metadata": {},
   "outputs": [],
   "source": [
    "edge_mask = cv2.Canny(blur_mask, 30, 30*3)\n",
    "plt.imshow(edge_mask, cmap='gray')"
   ]
  },
  {
   "cell_type": "code",
   "execution_count": null,
   "metadata": {},
   "outputs": [],
   "source": [
    "image, contours, hierarchy = cv2.findContours(edge_mask.copy(), cv2.RETR_EXTERNAL, cv2.CHAIN_APPROX_SIMPLE)"
   ]
  },
  {
   "cell_type": "code",
   "execution_count": null,
   "metadata": {},
   "outputs": [],
   "source": [
    "len(contours)"
   ]
  },
  {
   "cell_type": "code",
   "execution_count": null,
   "metadata": {},
   "outputs": [],
   "source": [
    "contours = [ contour for contour in contours if cv2.contourArea(contour) > 100 ]"
   ]
  },
  {
   "cell_type": "code",
   "execution_count": null,
   "metadata": {},
   "outputs": [],
   "source": [
    "len(contours)"
   ]
  },
  {
   "cell_type": "code",
   "execution_count": null,
   "metadata": {},
   "outputs": [],
   "source": [
    "plt.figure()\n",
    "plt.subplot(221)\n",
    "plt.imshow(cv2.drawContours(img.copy(), contours, 0, (0, 0, 0), 3))\n",
    "plt.subplot(222)\n",
    "plt.imshow(cv2.drawContours(img.copy(), contours, 1, (0, 0, 0), 3))\n",
    "plt.subplot(223)\n",
    "plt.imshow(cv2.drawContours(img.copy(), contours, 2, (0, 0, 0), 3))\n"
   ]
  },
  {
   "cell_type": "code",
   "execution_count": null,
   "metadata": {},
   "outputs": [],
   "source": []
  },
  {
   "cell_type": "code",
   "execution_count": null,
   "metadata": {},
   "outputs": [],
   "source": []
  }
 ],
 "metadata": {
  "kernelspec": {
   "display_name": "Python 3",
   "language": "python",
   "name": "python3"
  },
  "language_info": {
   "codemirror_mode": {
    "name": "ipython",
    "version": 3
   },
   "file_extension": ".py",
   "mimetype": "text/x-python",
   "name": "python",
   "nbconvert_exporter": "python",
   "pygments_lexer": "ipython3",
   "version": "3.5.2"
  }
 },
 "nbformat": 4,
 "nbformat_minor": 2
}
