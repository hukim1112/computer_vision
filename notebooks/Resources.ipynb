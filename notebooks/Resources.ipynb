{
 "cells": [
  {
   "cell_type": "markdown",
   "metadata": {
    "deletable": true,
    "editable": true
   },
   "source": [
    "## Useful Online Articles\n",
    "- [pyimagesearch](http://www.pyimagesearch.com/)\n",
    "- [Software Ideas](http://dimitri-christodoulou.blogspot.sg/)\n",
    "- [yhat blog](http://blog.yhathq.com/)\n",
    "- [Image Processing Learning Resources - HIPR2](http://homepages.inf.ed.ac.uk/rbf/HIPR2/)"
   ]
  },
  {
   "cell_type": "code",
   "execution_count": null,
   "metadata": {
    "collapsed": false,
    "deletable": true,
    "editable": true
   },
   "outputs": [],
   "source": []
  }
 ],
 "metadata": {
  "kernelspec": {
   "display_name": "Python 2",
   "language": "python",
   "name": "python2"
  },
  "language_info": {
   "codemirror_mode": {
    "name": "ipython",
    "version": 2
   },
   "file_extension": ".py",
   "mimetype": "text/x-python",
   "name": "python",
   "nbconvert_exporter": "python",
   "pygments_lexer": "ipython2",
   "version": "2.7.12"
  }
 },
 "nbformat": 4,
 "nbformat_minor": 0
}
